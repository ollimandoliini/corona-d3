{
 "cells": [
  {
   "cell_type": "code",
   "execution_count": 2,
   "metadata": {},
   "outputs": [],
   "source": [
    "import os\n",
    "import pandas as pd\n",
    "import json\n",
    "import shapely"
   ]
  },
  {
   "cell_type": "code",
   "execution_count": 3,
   "metadata": {},
   "outputs": [],
   "source": [
    "import matplotlib.pyplot as plt"
   ]
  },
  {
   "cell_type": "code",
   "execution_count": 4,
   "metadata": {},
   "outputs": [],
   "source": [
    "from matplotlib.patches import Polygon as mPolygon"
   ]
  },
  {
   "cell_type": "code",
   "execution_count": 5,
   "metadata": {},
   "outputs": [],
   "source": [
    "%matplotlib inline"
   ]
  },
  {
   "cell_type": "code",
   "execution_count": 6,
   "metadata": {},
   "outputs": [],
   "source": [
    "with open('municipalities.json') as f:\n",
    "    content = json.load(f)"
   ]
  },
  {
   "cell_type": "code",
   "execution_count": 7,
   "metadata": {},
   "outputs": [],
   "source": [
    "from shapely.geometry import Polygon, mapping\n",
    "from shapely.ops import cascaded_union"
   ]
  },
  {
   "cell_type": "code",
   "execution_count": 8,
   "metadata": {},
   "outputs": [
    {
     "data": {
      "image/svg+xml": [
       "<svg xmlns=\"http://www.w3.org/2000/svg\" xmlns:xlink=\"http://www.w3.org/1999/xlink\" />"
      ],
      "text/plain": [
       "<shapely.geometry.polygon.Polygon at 0x11ea99550>"
      ]
     },
     "execution_count": 8,
     "metadata": {},
     "output_type": "execute_result"
    }
   ],
   "source": [
    "Polygon()"
   ]
  },
  {
   "cell_type": "code",
   "execution_count": 9,
   "metadata": {},
   "outputs": [],
   "source": [
    "features = content['features']"
   ]
  },
  {
   "cell_type": "code",
   "execution_count": 10,
   "metadata": {},
   "outputs": [],
   "source": [
    "a = next(filter(lambda x: x['properties']['Name'] == 'Asikkala', features), None)\n",
    "p = next(filter(lambda x: x['properties']['Name'] == 'Padasjoki', features), None)"
   ]
  },
  {
   "cell_type": "code",
   "execution_count": 11,
   "metadata": {},
   "outputs": [],
   "source": [
    "a_geo = a['geometry']['coordinates'][0]\n",
    "p_geo = p['geometry']['coordinates'][0]"
   ]
  },
  {
   "cell_type": "code",
   "execution_count": 12,
   "metadata": {},
   "outputs": [],
   "source": [
    "casc = cascaded_union([Polygon(a_geo), Polygon(p_geo)])"
   ]
  },
  {
   "cell_type": "code",
   "execution_count": 17,
   "metadata": {},
   "outputs": [
    {
     "data": {
      "image/svg+xml": [
       "<svg xmlns=\"http://www.w3.org/2000/svg\" xmlns:xlink=\"http://www.w3.org/1999/xlink\" width=\"100.0\" height=\"100.0\" viewBox=\"25.17065104 61.06718804 0.7857799199999995 0.3265429200000085\" preserveAspectRatio=\"xMinYMin meet\"><g transform=\"matrix(1,0,0,-1,0,122.460919)\"><path fill-rule=\"evenodd\" fill=\"#66cc99\" stroke=\"#555555\" stroke-width=\"0.01571559839999999\" opacity=\"0.6\" d=\"M 25.783526,61.096291 L 25.775595,61.107223 L 25.76228,61.105608 L 25.748369,61.103963 L 25.728674,61.101583 L 25.677892,61.102465 L 25.62717,61.114023 L 25.582558,61.114508 L 25.562502,61.114721 L 25.537484,61.150707 L 25.47681,61.122803 L 25.468211,61.125339 L 25.408918,61.106812 L 25.354224,61.114803 L 25.335328,61.111056 L 25.327433,61.11279 L 25.279193,61.098197 L 25.263113,61.107145 L 25.255839,61.118427 L 25.239935,61.114552 L 25.246197,61.131251 L 25.236442,61.139912 L 25.242152,61.146252 L 25.253698,61.148855 L 25.258034,61.159784 L 25.254668,61.166583 L 25.254368,61.167189 L 25.249829,61.176353 L 25.259867,61.185889 L 25.253161,61.190751 L 25.24603,61.195919 L 25.233068,61.205307 L 25.223479,61.212247 L 25.199754,61.222124 L 25.202824,61.240938 L 25.227394,61.247899 L 25.255893,61.25159 L 25.270501,61.246343 L 25.347885,61.249104 L 25.353332,61.255549 L 25.359822,61.263225 L 25.394918,61.27585 L 25.415679,61.312291 L 25.456615,61.318572 L 25.517194,61.30411 L 25.545159,61.329176 L 25.601341,61.343077 L 25.632181,61.338689 L 25.705718,61.341464 L 25.741789,61.364628 L 25.807465,61.3134 L 25.801102,61.272082 L 25.804915,61.269062 L 25.849377,61.269976 L 25.874075,61.265632 L 25.893342,61.251993 L 25.881046,61.23845 L 25.927328,61.228008 L 25.882066,61.185529 L 25.894008,61.179706 L 25.903223,61.164028 L 25.919775,61.151934 L 25.872372,61.119406 L 25.858056,61.102666 L 25.783526,61.096291 z\" /></g></svg>"
      ],
      "text/plain": [
       "<shapely.geometry.polygon.Polygon at 0x11eaa4a58>"
      ]
     },
     "execution_count": 17,
     "metadata": {},
     "output_type": "execute_result"
    }
   ],
   "source": [
    "Polygon(a_geo)"
   ]
  },
  {
   "cell_type": "code",
   "execution_count": 19,
   "metadata": {},
   "outputs": [
    {
     "data": {
      "image/svg+xml": [
       "<svg xmlns=\"http://www.w3.org/2000/svg\" xmlns:xlink=\"http://www.w3.org/1999/xlink\" width=\"100.0\" height=\"100.0\" viewBox=\"24.82790324 61.21237824 0.7448425199999988 0.3021145199999964\" preserveAspectRatio=\"xMinYMin meet\"><g transform=\"matrix(1,0,0,-1,0,122.72687099999999)\"><path fill-rule=\"evenodd\" fill=\"#66cc99\" stroke=\"#555555\" stroke-width=\"0.014896850399999977\" opacity=\"0.6\" d=\"M 24.970481,61.450704 L 25.079513,61.466595 L 25.093543,61.471641 L 25.118119,61.472993 L 25.147773,61.459224 L 25.183291,61.47836 L 25.256136,61.472726 L 25.275848,61.480173 L 25.437427,61.486906 L 25.490605,61.438277 L 25.471204,61.404641 L 25.545159,61.329176 L 25.517194,61.30411 L 25.456615,61.318572 L 25.415679,61.312291 L 25.394918,61.27585 L 25.359822,61.263225 L 25.353332,61.255549 L 25.347885,61.249104 L 25.270501,61.246343 L 25.255893,61.25159 L 25.227394,61.247899 L 25.202824,61.240938 L 25.18696,61.239965 L 25.09685,61.256004 L 25.029382,61.246153 L 25.012817,61.291067 L 24.99408,61.279397 L 24.975925,61.275391 L 24.94881,61.290604 L 24.930449,61.280489 L 24.92525,61.281865 L 24.920701,61.286527 L 24.921038,61.314343 L 24.913943,61.324881 L 24.889253,61.355688 L 24.9048,61.388679 L 24.893956,61.391255 L 24.912402,61.415838 L 24.876885,61.437222 L 24.862373,61.458023 L 24.85549,61.469426 L 24.859953,61.475978 L 24.970481,61.450704 z\" /></g></svg>"
      ],
      "text/plain": [
       "<shapely.geometry.polygon.Polygon at 0x11ea99be0>"
      ]
     },
     "execution_count": 19,
     "metadata": {},
     "output_type": "execute_result"
    }
   ],
   "source": [
    "Polygon(p_geo)"
   ]
  },
  {
   "cell_type": "code",
   "execution_count": 15,
   "metadata": {},
   "outputs": [
    {
     "data": {
      "image/svg+xml": [
       "<svg xmlns=\"http://www.w3.org/2000/svg\" xmlns:xlink=\"http://www.w3.org/1999/xlink\" width=\"100.0\" height=\"100.0\" viewBox=\"24.81261648 61.05341748 1.1575850400000007 0.47636203999999793\" preserveAspectRatio=\"xMinYMin meet\"><g transform=\"matrix(1,0,0,-1,0,122.583197)\"><path fill-rule=\"evenodd\" fill=\"#66cc99\" stroke=\"#555555\" stroke-width=\"0.023151700800000015\" opacity=\"0.6\" d=\"M 25.783526,61.096291 L 25.775595,61.107223 L 25.76228,61.105608 L 25.748369,61.103963 L 25.728674,61.101583 L 25.677892,61.102465 L 25.62717,61.114023 L 25.582558,61.114508 L 25.562502,61.114721 L 25.537484,61.150707 L 25.47681,61.122803 L 25.468211,61.125339 L 25.408918,61.106812 L 25.354224,61.114803 L 25.335328,61.111056 L 25.327433,61.11279 L 25.279193,61.098197 L 25.263113,61.107145 L 25.255839,61.118427 L 25.239935,61.114552 L 25.246197,61.131251 L 25.236442,61.139912 L 25.242152,61.146252 L 25.253698,61.148855 L 25.258034,61.159784 L 25.254668,61.166583 L 25.254368,61.167189 L 25.249829,61.176353 L 25.259867,61.185889 L 25.253161,61.190751 L 25.24603,61.195919 L 25.233068,61.205307 L 25.223479,61.212247 L 25.199754,61.222124 L 25.202824,61.240938 L 25.18696,61.239965 L 25.09685,61.256004 L 25.029382,61.246153 L 25.012817,61.291067 L 24.99408,61.279397 L 24.975925,61.275391 L 24.94881,61.290604 L 24.930449,61.280489 L 24.92525,61.281865 L 24.920701,61.286527 L 24.921038,61.314343 L 24.913943,61.324881 L 24.889253,61.355688 L 24.9048,61.388679 L 24.893956,61.391255 L 24.912402,61.415838 L 24.876885,61.437222 L 24.862373,61.458023 L 24.85549,61.469426 L 24.859953,61.475978 L 24.970481,61.450704 L 25.079513,61.466595 L 25.093543,61.471641 L 25.118119,61.472993 L 25.147773,61.459224 L 25.183291,61.47836 L 25.256136,61.472726 L 25.275848,61.480173 L 25.437427,61.486906 L 25.490605,61.438277 L 25.471204,61.404641 L 25.545159,61.329176 L 25.601341,61.343077 L 25.632181,61.338689 L 25.705718,61.341464 L 25.741789,61.364628 L 25.807465,61.3134 L 25.801102,61.272082 L 25.804915,61.269062 L 25.849377,61.269976 L 25.874075,61.265632 L 25.893342,61.251993 L 25.881046,61.23845 L 25.927328,61.228008 L 25.882066,61.185529 L 25.894008,61.179706 L 25.903223,61.164028 L 25.919775,61.151934 L 25.872372,61.119406 L 25.858056,61.102666 L 25.783526,61.096291 z\" /></g></svg>"
      ],
      "text/plain": [
       "<shapely.geometry.polygon.Polygon at 0x11eaa4240>"
      ]
     },
     "execution_count": 15,
     "metadata": {},
     "output_type": "execute_result"
    }
   ],
   "source": [
    "Polygon(casc)"
   ]
  },
  {
   "cell_type": "code",
   "execution_count": null,
   "metadata": {},
   "outputs": [],
   "source": [
    "fig = plt.figure(1, dpi=90)\n",
    "ax = fig.add_subplot(111)\n",
    "ax.add_patch(mPolygon(a_geo))\n",
    "ax.add_patch(mPolygon(p_geo))\n",
    "ax.axis('scaled')"
   ]
  },
  {
   "cell_type": "code",
   "execution_count": null,
   "metadata": {},
   "outputs": [],
   "source": [
    "with open('sairaanhoitopiirit.json') as f:\n",
    "    shpt = json.load(f)"
   ]
  },
  {
   "cell_type": "code",
   "execution_count": null,
   "metadata": {},
   "outputs": [],
   "source": [
    "from collections import defaultdict"
   ]
  },
  {
   "cell_type": "code",
   "execution_count": null,
   "metadata": {},
   "outputs": [],
   "source": [
    "d = defaultdict(list)\n",
    "for shp in shpt:\n",
    "    d[shp['shp']].append(shp['kunta'])"
   ]
  },
  {
   "cell_type": "code",
   "execution_count": null,
   "metadata": {},
   "outputs": [],
   "source": [
    "def merge_polygons(li):\n",
    "    current_polygon = Polygon(li[0])\n",
    "    for i in li[1:]:\n",
    "        polygon = cascaded_union((Polygon(i), current_polygon))\n",
    "    return current_polygon\n",
    "        "
   ]
  },
  {
   "cell_type": "code",
   "execution_count": null,
   "metadata": {},
   "outputs": [],
   "source": [
    "with open('municipalities.json') as f:\n",
    "    municipalities = json.load(f)['features']"
   ]
  },
  {
   "cell_type": "code",
   "execution_count": null,
   "metadata": {},
   "outputs": [],
   "source": [
    "def get_municipality_geo(name):\n",
    "    for i in municipalities:\n",
    "        if i['properties']['Name'].lower() == name.lower():\n",
    "            return i['geometry']['type'], i['geometry']['coordinates']\n",
    "    return []"
   ]
  },
  {
   "cell_type": "code",
   "execution_count": null,
   "metadata": {},
   "outputs": [],
   "source": [
    "hus_geos = [get_municipality_geo(i) for i in d['HUS']]"
   ]
  },
  {
   "cell_type": "code",
   "execution_count": null,
   "metadata": {},
   "outputs": [],
   "source": [
    "polys = []\n",
    "for type_, geom in hus_geos:\n",
    "    if type_ == 'Polygon':\n",
    "        polys.extend(geom)\n",
    "    if type_ == 'MultiPolygon':\n",
    "        polys.extend([ii for i in geom for ii in i])"
   ]
  },
  {
   "cell_type": "code",
   "execution_count": null,
   "metadata": {},
   "outputs": [],
   "source": [
    "fig = plt.figure(1, dpi=90)\n",
    "ax = fig.add_subplot(111)\n",
    "for p in polys:\n",
    "    ax.add_patch(mPolygon(p))\n",
    "ax.axis('scaled')"
   ]
  },
  {
   "cell_type": "code",
   "execution_count": null,
   "metadata": {},
   "outputs": [],
   "source": [
    "bins = []\n",
    "\n",
    "for p in polys:\n",
    "    for b in bins:\n",
    "        polys_in_bin = (Polygon(bb) for bb in b)\n",
    "        if any(Polygon(p).intersects(Polygon(bb)) for bb in polys_in_bin):\n",
    "            b.append(p)\n",
    "            break\n",
    "    else:\n",
    "        bins.append([p])\n"
   ]
  },
  {
   "cell_type": "code",
   "execution_count": null,
   "metadata": {},
   "outputs": [],
   "source": [
    "unions = []\n",
    "for b in bins:\n",
    "    if len(b) > 1:\n",
    "        unions.append(merge_polygons(b))\n",
    "    else:\n",
    "        unions.append(Polygon(b[0]))"
   ]
  },
  {
   "cell_type": "code",
   "execution_count": null,
   "metadata": {},
   "outputs": [],
   "source": [
    "unions[2]"
   ]
  },
  {
   "cell_type": "code",
   "execution_count": null,
   "metadata": {},
   "outputs": [],
   "source": [
    "unions"
   ]
  },
  {
   "cell_type": "code",
   "execution_count": null,
   "metadata": {},
   "outputs": [],
   "source": [
    "fig = plt.figure(1, dpi=90)\n",
    "ax = fig.add_subplot(111)\n",
    "for p in unions[:2]:\n",
    "    ax.add_patch(mPolygon(p))\n",
    "ax.axis('scaled')"
   ]
  },
  {
   "cell_type": "code",
   "execution_count": null,
   "metadata": {},
   "outputs": [],
   "source": [
    "from shapely.geometry import Polygon\n",
    "p1 = Polygon([(0,0), (1,0), (1, 1), (0,1)])\n",
    "p2 = Polygon([(1,1), (2,1), (2, 2), (1,2)])\n",
    "print(p1.intersects(p2))"
   ]
  },
  {
   "cell_type": "code",
   "execution_count": null,
   "metadata": {},
   "outputs": [],
   "source": []
  }
 ],
 "metadata": {
  "kernelspec": {
   "display_name": "Python Data Science Kernel",
   "language": "python",
   "name": "data-science"
  },
  "language_info": {
   "codemirror_mode": {
    "name": "ipython",
    "version": 3
   },
   "file_extension": ".py",
   "mimetype": "text/x-python",
   "name": "python",
   "nbconvert_exporter": "python",
   "pygments_lexer": "ipython3",
   "version": "3.7.3"
  }
 },
 "nbformat": 4,
 "nbformat_minor": 4
}
